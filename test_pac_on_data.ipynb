{
 "cells": [
  {
   "cell_type": "code",
   "execution_count": 1,
   "metadata": {
    "collapsed": true
   },
   "outputs": [],
   "source": [
    "import pandas as pd"
   ]
  },
  {
   "cell_type": "code",
   "execution_count": 2,
   "metadata": {},
   "outputs": [],
   "source": [
    "csv_data = pd.read_csv('data/english-train-medium', sep='\\t', names=['source', 'target', 'pos_info'])\n",
    "del csv_data['pos_info']"
   ]
  },
  {
   "cell_type": "code",
   "execution_count": 3,
   "metadata": {},
   "outputs": [],
   "source": [
    "import helper\n",
    "filtered_csv_data = csv_data.apply(helper.iterLCS, axis=1)"
   ]
  },
  {
   "cell_type": "code",
   "execution_count": 4,
   "metadata": {},
   "outputs": [],
   "source": [
    "# Build attributes (source word) and objects (operations) relations from the filtered data\n",
    "# denote ::operation to denote objects to delete. For eg. ::ना shows delete ना\n",
    "\n",
    "relations = []\n",
    "filtered_csv_data['deleted'] = filtered_csv_data['deleted'].apply(lambda opns: ['::' + opn for opn in opns])\n",
    "for i, r in filtered_csv_data.iterrows():\n",
    "    attr = r['source']\n",
    "    objects = r['deleted'] + r['added']\n",
    "    for obj in objects:\n",
    "        relations.append((obj, attr))"
   ]
  },
  {
   "cell_type": "code",
   "execution_count": 5,
   "metadata": {},
   "outputs": [
    {
     "name": "stdout",
     "output_type": "stream",
     "text": [
      "computing introduced objects and attributes for concept 0 of 173\n",
      "Done with introduced objects and attributes\n",
      "Done computing lattice\n"
     ]
    }
   ],
   "source": [
    "# Build the concept lattice\n",
    "import concept_context as cn\n",
    "\n",
    "concepts = cn.formalConcepts(relations)\n",
    "concepts.computeLattice()"
   ]
  },
  {
   "cell_type": "code",
   "execution_count": 6,
   "metadata": {},
   "outputs": [
    {
     "name": "stdout",
     "output_type": "stream",
     "text": [
      "Done computing canonical basis\n"
     ]
    }
   ],
   "source": [
    "concepts.computeCanonicalBasis()"
   ]
  },
  {
   "cell_type": "code",
   "execution_count": 7,
   "metadata": {},
   "outputs": [
    {
     "name": "stdout",
     "output_type": "stream",
     "text": [
      "total implications: 10, unique_conclusions: 1\n",
      "[{'wist'}, {'waulk', 'yackety-yak', 'yabby', 'xylograph', 'warrantise', 'window-shop', 'wanze', 'virialize'}, {'unwatch'}, {'youthen'}, {'welter'}, {'yackety-yak', 'yabby', 'xylograph', 'warrantise'}, {'syllabicate'}, {'æmulate'}, {'yabby'}, {'æmulate', 'youthen'}] :: {frozenset({'lampwork', 'misselect', 'revendicate', 'convict', \"wan't\", 'ghast', 'dock', 'chauffeur', 'Tylerize', 'outcoach', 'bespit', 'revalidate', 'hanafize', 'surbate', 'snotter', 'instimulate', 'cryopreserve', 'defamiliarize', 'outmarch', 'headquarter', 'visé', 'snowflake', 'butt-rape', 'hereticate', 'colourize', 'impleach', 'barge', 'fragmentize', 'bulk', 'dualize', 'spazz', 'natter', 'unabate', 'merchandize', 'forthfet', 'de-Muslimize', 'begowk', 'dindle', 'Germanize', 'empress', 'exceed', 'syllabicate', 'deadline', 'fark', 'overflow', 'denotify', 'scow', 'template', 'misunderstand', 'intervene', 'bedeck', 'reflash', 'actuate', 'reinspirit', 'tone', 'undight', 'scavage', 'razz', 'interpret', 'tiff', 'coordinate', 'tic', 'potentiate', 'assume', 'wrongtake', 'recapture', 'disannex', 'fart', 'recombobulate', 'licence', 'emancipate', 'exoticise', 'sublet', 'revalorize', 'spruce', 'misapply', 'bludge', 'cinchonize', 'welsh', 'oh', 'hance', 'desingularize', 'bind', 'forfight', 'exchange', 'over-clock', 'butter', 'begloom', 'chark', 'dragnet', 'sham', 'dogleg', 'hurry-skurry', 'eulogize', 'lollop', 'dedisperse', 'scumber', 'glory', 'book', 'hearthstone', 'cascade', 'overweather', 'officiate', 'disperge', 'begem', 'shadow-box', 'vat', 'gamify', 'blotch', 'rote', 'fineer', 'gummer', 'phonate', 'monophthongise', 'ice-skate', 'uncock', 'rust', 'papyrograph', 'atrede', 'catalyze', 'envolume', 'badmouth', 'corral', 'misnote', 'cund', 'decolorize', 'upbreed', 'cybersex', 'monotone', 'assassinate', 'banish', 'unhyphenate', 'formirken', 'vada', 'mean', 'upleap', 'unorder', 'misdeem', 'redraught', 'consent', 'autoclave', 'overcall', 'swathe', 'overmilk', 'secrete', 'arrive', 'polyubiquitinate', 'misvote', 'glint', 'disglorify', 'foreweigh', 'unbrutalize', 'unstaple', 'spoon-feed', 'propitiate', 'knout', 'consign', 'welter', 'velarize', 'shamble', 'codemix', 'doll', 'acquaint', 'ravage', 'inventory', 'luminate', 'adjudicate', 'missificate', 'invigorate', 'beteem', 'arcweld', 'oxidise', 'proll', 'besorrow', 'scrutinise', 'belam', 'gab', 'lend', 'bebay', 'sidewind', 'remagnetize', 'maturate', 'snowproof', 'cryosection', 'outwrest', 'ladle', 'dryclean', 'intergern', 'stockpile', 'lair', 'overdreep', 'frist', 'proselyte', 'cryoprotect', 'dee', 'wibble', 'bearproof', 'periscope', 'ulcerate', 'overfarm', 'sleave', 'aromatize', 'load', 'inamor', 'air', 'hood', 'unhelmet', 'unvisard', 'wot', 'overbook', 'acclamate', 'toshiver', 'mispunctuate', 'ungender', 'monomerize', 'deauthorise', 'noodge', 'inborrow', \"'umble\", 'haft', 'beframe', 'nurn', 'communicate', 'reforestize', 'pupate', 'impurple', 'privateer', 'necropsy', 'navvy', 'basify', 'nitrogenise', 'forespeak', 'telescope', 'swifter', 'spirit', 'reproof', 'absume', 'biographise', 'croggle', 'suffer', 'dunk', 'knurl', 'granitize', 'counterweight', 'boondock', 'Europeanize', 'playact', 'teletransmit', 'elixate', 'blindstitch', 'pejorate', 'repone', 'rambolt', 'resee', 'maunch', 'inbuild', 'mezzotint', 'overbrim', 'backdrop', 'superficialise', 'agrace', 'nullify', 'shunt', 'subnet', 'surbeat', 'prolificate', 'bewilder', 'incant', 'slab', 'upclock', 'sclerose', 'reduplicate', 'unballast', 'equivale', 'warehouse', 'forhale', 'chirr', 'recur', 'ranforce', 'debleat', 'trounce', 'outrace', 'apocopate', 'straddle', 'thermoform', 'tool', 'Hebraicize', 'psychoanalyse', 'lour', 'camouflage', 'gateway', 'bedye', 'backstep', 'prink', 'epitaph', 'commercialize', 'itch', 'recongregate', 'wafer', 'clot', 'bedeem', 'elt', 'periwig', 'roquet', 'passivise', 'homœopathize', 'essoign', 'repullulate', 'victimize', 'pawn', 'dout', 'celestialize', 'decrement', 'hypercorrect', 'ean', 'sidearm', 'fankle', 'disarticulate', 'snape', 'quinella', 'ignify', 'weathercock', 'hard-wire', 'oversupply', 'antique', 'alphabetize', 'unconfuse', 'rethank', 'casefy', 'coffee', 'unsake', 'deligate', 'hypothecate', 'sump', 'deodorise', 'bemuddle', 'moisturize', 'cheek', 'show', 'characterise', 'complete', 'reinfiltrate', 'luck', 'bellyflop', 'remuddle', 'curtain', 'deprotect', 'reboot', 'inshrine', 'forclem', 'disappreciate', 'recover', 'vaporize', 'geneticize', 'rubric', 'rebulb', 'contraband', 'brob', 'weaponize', 'tole', 'forebring', 'basset', 'rope', 'embox', 'awe', 'againsay', 'toss', 'onhold', 'uprush', 'verberate', 'jounce', 'reassault', 'unlace', 'jig-jig', 'coapply', 'mend', 'forlat', 'certificate', 'true', 'procede', 'laundress', 'retund', 'coop', 'arread', 'housemaid', 'decrypt', 'gangrenate', 'craze', 'starboard', 'multimerize', 'spark', 'infeeble', 'chuckle', 'jot', 'initiate', 'devolve', 'bedare', 'succede', 'elucidate', 'defund', 'reimmunize', 'sycophantize', 'mummify', 'mass-produce', 'actualize', 'hale', 'donate', 'coregister', 'diagonalise', 'nill', 'pickaxe', 'disvelop', 'Teutonicize', 'yackety-yak', 'paternalize', 'preorganize', 'leaze', 'jump', 'emotionalize', 'f**k', 'chin', 'attaminate', 'newform', 'ree', 'disinure', 'sjamboke', 'overpromote', 'tub', 'skydive', 'exuscitate', 'foremove', 'snive', 'rescatter', 'murk', 'prelisten', 'jaculate', 'outscold', 'dish', 'prediscover', 'overpolish', 'sully', 'subspecialize', 'soberize', 'gild', 'praise', 'thresh', 'fordry', 'famish', 'recarry', 'transshift', 'prophecy', 'overmilitarize', 'chaunge', 'tipsify', 'begrasp', 'overconstrain', 'postlude', 'patrol', 'embezzle', 'resensitize', 'Moroccanise', 'postdict', 'larn', 'antisepticise', 'head-butt', 'unswirl', 'misinfer', 'ineffectualize', 'disfeature', 'unshelve', 'calumnate', 'subtilise', 'autoreact', 'disembitter', 'preapologize', 'page', 'supplace', 'virialize', 'puppy', 'alliance', 'marinate', 'tine', 'respirate', 'sot', 'transplace', 'verbize', 'besharp', 'propagandize', 'miskick', 'brawn', 'connex', 'youthen', 'interdash', 'drivel', 'rix', 'notify', 'misheed', 'greenlight', 'embroid', 'require', 'ease', 'gluttonise', 'troak', 'uncity', 'trinket', 'disenthrone', 'code-mix', 'commerce', 'colour-coordinate', 'deaden', 'deglaze', 'resheath', 'noint', 'repartee', 'lip', 'Hebraize', 'videocast', 'overtreat', 'beshout', 'plate', 'outserve', 'disordain', 'recommit', 'sonogram', 'traduce', 'misween', 'heatsink', 'forehold', 'recertify', 'fangle', 'redesign', 'underlook', 'overplow', 'pooh', 'decolourise', 'infect', 'grace', 'intoxicate', 'dequantitate', 'yabby', 'unfrequent', 'polyadenylate', 'dung', 'Muslimize', 'blaspheme', 'phlebotomize', 'reutilize', 'pearl', 'secretary', 'overname', 'overbet', 'halfcock', 'foreposition', 'inhere', 'Hollywoodize', 'dry-clean', 'perspire', 'bebop', 'toll', 'halo', 'distract', 'fermentate', 'cringe', 'interflow', 'desynchronize', 'derve', 'waulk', 'loff', 'reindent', 'chuck', 'villainize', 'peregrinate', 'Google', 'savagize', 'grubble', 'reprobate', 'memorialize', 'latinize', 'erase', 'replunge', 'underwork', 'embrew', 'intercorrelate', 'min', 'unmask', 'voodoo', 'underbill', 'stabilise', 'crump', 'unrack', 'choogle', 'unsanctify', 'atspring', 'reteach', 'hermitize', 'fortoggle', 'parallelize', 'disorientate', 'ablegate', 'downlink', 'scern', 'twire', 'vide', 'criticise', 'spellcheck', 'itemize', 'flecker', 'preface', 'flob', 'forwork', 'hog', 'cadge', 'undercry', 'presspack', 'coy', 'reaffirm', 'westernize', 'haunce', 'honeyfugle', 'ammoniate', 'enfire', 'abrogate', 'remast', 'counterpropagandize', 'DIY', 'forethink', 'sluff', 'skull', 'straitjacket', 'spiff', 'bub', 'stage', 'undeclare', 'hammermill', 'gar', 'autolyze', 'glutch', 'text', 'crimp', 'deinterleave', 'convulse', 'spot', 'rechristen', 'embathe', 'handbrake', 'unsluice', 'harden', 'misplace', 'recall', 'reendow', 'cowhide', 'aeriate', 'microregulate', 'upwaft', 'layer', 'fugle', 'thunder', 'outdo', 'stomack', 'revindicate', 'insufflate', 'decontrol', 'attal', 'romanticise', 'restaple', 'outbrazen', 'condence', 'redistill', 'duct', 'mortalise', 'chitter', 'supernaturalize', 'warrantise', 'ahoy', 'nicker', 'flight', 'resorb', 'derp', 'plenish', 'belibel', 'testern', 'spute', 'export', 'descale', 'exist', 'use', 'skywatch', 'undergoe', 'congree', 'dilaniate', 'couch-surf', 'coak', 'Bowdlerize', 'ventilate', 'pore', 'tip-toe', 'enthronize', 'quisle', 'gust', 'revalue', 'guesstimate', 'reinfund', 'hyperactivate', 'throe', 'emulsify', 'immingle', 'vole', 'kiss', 'allegate', 'Trojan-horse', 'pilgrimize', 'lid', 'bouge', 'outborrow', 'xylograph', 'inexist', 'disfurniture', 'ether', 'laureate', 'implead', 'deracinate', 'reestimate', 'course', 'repaganize', 'hand-hold', 'illtreat', 'autotune', 'retribute', 'chapel', 'undercast', 'sauce', 'remotivate', 'deexcite', 'bower', 'joul', 'emolliate', 'accordion', 'eliminate', 'sile', 'gally', 'retherm', 'unpromise', 'salaam', 'scoot', 'laconize', 'seed', 'syndicate', 'fortravel', 'overcloy', 'moider', 'forthcome', 'foray', 'destigmatise', 'pierce', 'masquerade', 'dephase', 'beplaster', 'exploit', 'front', 'caracol', 'bergh', 'uncredit', 'appall', 'demuslimize', 'redshirt', 'forweary', 'plyght', 'wist', 'mingle-mangle', 'gearshift', 'foreknow', 'sodomise', 'foreapprove', 'subjectivise', 'Iranianize', 'kip', 'laff', 'electrocute', 'cosh', 'foreplay', 'play', 'inthronize', 'endazzle', 'argue', 'Muslimise', 'shoot', 'rag', 'avoid', 'osmose', 'liss', 'delint', 'attemper', 'strew', 'perjure', 'oversteam', 'onlap', 'replough', 'reliquefy', 'pasteurize', 'barnacle', 'kayo', 'stodge', 'empathize', 'instore', 'pontificate', 'undertip', 'interplead', 'garter', 'disapply', 'thump', 'covary', 'machicolate', 'counterattract', 'dye', 'begive', 'opinionate', 'atwind', 'fordrive', 'instrengthen', 'squit', 'reinterview', 'hang-glide', 'ozonate', 'blink', 'tread', 'shrink', 'cover', 'copper-fasten', 'sheriff', 'disconcur', 'subnumerate', 'tranch', 'aestuate', 'topinch', 'regerminate', 'photolyse', 'misderive', 'deoxidise', 'engrave', 'wanze', 'bogue', 'narc', 'backload', 'enrol', 'scrouge', 'manumit', 'overmast', 'adipocerate', 'prætend', 'hatchel', 'mistune', 'redoubt', 'unwatch', 'bren', 'glissade', 'accompt', 'dillydally', 'unemploy', 'revaluate', 'mosy', 'imposthume', 'Moslemise', 'fraternise', 'ninja', 'hee-haw', 'recourse', 'kibitz', 'oversew', 'furnish', 'internationalize', 'secern', 'microblog', 'beslobber', 'tubthump', 'overidealize', 'spool', 'sinch', 'acronymise', 'advesperate', 'retrodict', 'morcellate', 'lipread', 'strong-arm', 'fiddlefart', 'foreshame', 'embrown', 'emule', 'devulgarize', 'allegorize', 'hasp', 'reposition', 'perennialize', 'scummer', 'photograph', 'siss', 'vaunce', 'outleap', 'securitize', 'ding', 'chivy', 'bescrape', 'hoy', 'acetify', 'cream', 'unwarp', 'photosensitise', 'hug', 'roost', 'frolic', 'beef', 'hedgehop', 'rebleed', 'tamp', 'indispose', 'outprice', 'duodecimate', 'tarry', 'acuate', 'dwindle', 'slander', 'indulgiate', 'thin', 'supererogate', 'retake', 'overlay', 'oompah', 'heterolyze', 'practice', 'cross-dress', 'LoC', 'undercrank', 'radar', 'commoditize', 'malinvest', 'apay', 'toquake', 'responsibilize', 'engender', 'quitch', 'disentrail', 'recrystallise', 'labefy', 'corporealise', 'iron', 'arise', 'translocate', 'smug', 'permeabilize', 'wheeze', 'hypercriticize', 'posturize', 'æmulate', 'preemploy', 'writhe', 'regularise', 'mothball', 'caseharden', 'tribe', 'tremp', 'bepiss', 'savor', 'pilgrim', 'bestride', 'conditionate', 'tracheotomize', 'courier', 'backreact', 'shuggle', 'berend', 'bield', 'spoom', 'caparison', 'window-shop', 'breaststroke', 'pang', 'sonneteer', 'repro', 'mention', 'spangle', 'inforce', 'reinstitutionalise', 'overperform', 'reaccelerate', 'bollix', 'rejumble', 'wedding', 'embastardize', 'marcot', 'stray'})}\n"
     ]
    }
   ],
   "source": [
    "total_implications = len(concepts.canonical_basis)\n",
    "unique_conclusions = [frozenset(impl.conclusion) for impl in concepts.canonical_basis]\n",
    "print(\"total implications: {0}, unique_conclusions: {1}\".format(total_implications, len(set(unique_conclusions))))\n",
    "print([impl.premise for impl in concepts.canonical_basis], \"::\", set(unique_conclusions))"
   ]
  }
 ],
 "metadata": {
  "kernelspec": {
   "display_name": "Python 3",
   "language": "python",
   "name": "python3"
  },
  "language_info": {
   "codemirror_mode": {
    "name": "ipython",
    "version": 3
   },
   "file_extension": ".py",
   "mimetype": "text/x-python",
   "name": "python",
   "nbconvert_exporter": "python",
   "pygments_lexer": "ipython3",
   "version": "3.6.3"
  }
 },
 "nbformat": 4,
 "nbformat_minor": 2
}
