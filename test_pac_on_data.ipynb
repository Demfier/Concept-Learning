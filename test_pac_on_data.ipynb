{
 "cells": [
  {
   "cell_type": "code",
   "execution_count": 1,
   "metadata": {
    "collapsed": true
   },
   "outputs": [],
   "source": [
    "import pandas as pd"
   ]
  },
  {
   "cell_type": "code",
   "execution_count": 2,
   "metadata": {},
   "outputs": [],
   "source": [
    "csv_data = pd.read_csv('data/hindi-train-low', sep='\\t', names=['source', 'target', 'pos_info'])\n",
    "del csv_data['pos_info']"
   ]
  },
  {
   "cell_type": "code",
   "execution_count": 3,
   "metadata": {},
   "outputs": [],
   "source": [
    "import helper\n",
    "filtered_csv_data = csv_data.apply(helper.iterLCS, axis=1)"
   ]
  },
  {
   "cell_type": "code",
   "execution_count": 4,
   "metadata": {},
   "outputs": [],
   "source": [
    "# Build attributes (source word) and objects (operations) relations from the filtered data\n",
    "# denote ::operation to denote objects to delete. For eg. ::ना shows delete ना\n",
    "\n",
    "relations = []\n",
    "filtered_csv_data['deleted'] = filtered_csv_data['deleted'].apply(lambda opns: ['::' + opn for opn in opns])\n",
    "for i, r in filtered_csv_data.iterrows():\n",
    "    attr = r['source']\n",
    "    objects = r['deleted'] + r['added']\n",
    "    for obj in objects:\n",
    "        relations.append((obj, attr))"
   ]
  },
  {
   "cell_type": "code",
   "execution_count": 5,
   "metadata": {},
   "outputs": [
    {
     "name": "stdout",
     "output_type": "stream",
     "text": [
      "computing introduced objects and attributes for concept 0 of 147\n",
      "Done with introduced objects and attributes\n",
      "Done computing lattice\n"
     ]
    }
   ],
   "source": [
    "# Build the concept lattice\n",
    "import concept_context as cn\n",
    "\n",
    "concepts = cn.formalConcepts(relations)\n",
    "concepts.computeLattice()"
   ]
  },
  {
   "cell_type": "code",
   "execution_count": 6,
   "metadata": {},
   "outputs": [
    {
     "name": "stdout",
     "output_type": "stream",
     "text": [
      "Done computing canonical basis\n"
     ]
    }
   ],
   "source": [
    "concepts.computeCanonicalBasis()"
   ]
  },
  {
   "cell_type": "code",
   "execution_count": 7,
   "metadata": {},
   "outputs": [
    {
     "name": "stdout",
     "output_type": "stream",
     "text": [
      "total implications: 14, unique_conclusions: 1\n"
     ]
    }
   ],
   "source": [
    "total_implications = len(concepts.canonical_basis)\n",
    "unique_conclusions = [frozenset(impl.conclusion) for impl in concepts.canonical_basis]\n",
    "print(\"total implications: {0}, unique_conclusions: {1}\".format(total_implications, len(set(unique_conclusions))))"
   ]
  }
 ],
 "metadata": {
  "kernelspec": {
   "display_name": "Python 3",
   "language": "python",
   "name": "python3"
  },
  "language_info": {
   "codemirror_mode": {
    "name": "ipython",
    "version": 3
   },
   "file_extension": ".py",
   "mimetype": "text/x-python",
   "name": "python",
   "nbconvert_exporter": "python",
   "pygments_lexer": "ipython3",
   "version": "3.6.3"
  }
 },
 "nbformat": 4,
 "nbformat_minor": 2
}
